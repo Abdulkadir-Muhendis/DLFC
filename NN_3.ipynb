{
 "cells": [
  {
   "cell_type": "code",
   "execution_count": 1,
   "metadata": {},
   "outputs": [],
   "source": [
    "import numpy as np \n",
    "import random "
   ]
  },
  {
   "cell_type": "code",
   "execution_count": 30,
   "metadata": {},
   "outputs": [],
   "source": [
    "class NN():\n",
    "    def __init__(self,inputs,outputs,epochs):\n",
    "        self.inputs = inputs\n",
    "        self.outputs =  outputs\n",
    "        self.epochs = epochs\n",
    "        self.input_shape = inputs.shape[1]\n",
    "        self.synaptic_weights = self.random_wegihts()\n",
    "        #self.lr = lr\n",
    "        \n",
    "        \n",
    "    def sigmoid(self,x):\n",
    "        return 1 / (1 + np.exp(-x)) \n",
    "    \n",
    "    def sigmoid_derivative(self,x):\n",
    "        return x * (1 - x)\n",
    "        \n",
    "    def random_wegihts(self):\n",
    "        return 2 * np.random.random((self.input_shape,1)) - 1 \n",
    "        \n",
    "    def train(self):\n",
    "        predicted_outputs = 0\n",
    "        weights = 0\n",
    "        \n",
    "        for iter_ in range(self.epochs):\n",
    "            #print('Iter number : ',iter_)\n",
    "            inputs_ = self.inputs\n",
    "            weights = self.synaptic_weights\n",
    "            dot_vectors = np.dot(inputs_,weights)\n",
    "            predicted_outputs = self.sigmoid(dot_vectors)            \n",
    "\n",
    "            # how much did we miss?\n",
    "            error = self.outputs - predicted_outputs \n",
    "            #print('error ', error)\n",
    "\n",
    "            # multiply how much we missed by the\n",
    "            # slope of the sigmoid at the values in outputs\n",
    "            adjustments = error * self.sigmoid_derivative(predicted_outputs) #* self.lr\n",
    "            #print('adjustments',adjustments)\n",
    "\n",
    "            # update weights \n",
    "            self.synaptic_weights += np.dot(inputs_.T, adjustments)\n",
    "            #print('wegihts +=',np.dot(inputs_.T, adjustments))\n",
    "\n",
    "        return predicted_outputs\n",
    "    \n",
    "    \n",
    "    \n",
    "        "
   ]
  },
  {
   "cell_type": "markdown",
   "metadata": {},
   "source": [
    "# Back Propgation :\n",
    "<img src =\"https://i2.wp.com/www.nmthgiat.com/wp-content/uploads/2018/07/geo.png?w=623&ssl=1\"/>"
   ]
  },
  {
   "cell_type": "code",
   "execution_count": 78,
   "metadata": {},
   "outputs": [],
   "source": [
    "# input dataset\n",
    "training_inputs = np.array([[0,0,1],\n",
    "                            [1,1,1],\n",
    "                            [1,0,1],\n",
    "                            [0,1,1],\n",
    "                            [0,1,0],\n",
    "                            [0,1,0],\n",
    "                            [0,1,0],\n",
    "                            [1,1,1],\n",
    "                            [0,1,1]\n",
    "                           \n",
    "                           ])\n",
    "\n",
    "# output dataset\n",
    "training_outputs = np.array([[0,\n",
    "                              1,\n",
    "                              1,\n",
    "                              0,\n",
    "                              0,\n",
    "                              0,\n",
    "                              0,\n",
    "                              1,\n",
    "                              0]]).T\n",
    "\n",
    "\n",
    "nn = NN(training_inputs,training_outputs,6)\n",
    "outputs = nn.train()\n",
    "predicted_outputs = outputs.round(0).flatten().astype(np.int64)"
   ]
  }
 ],
 "metadata": {
  "kernelspec": {
   "display_name": "Python 3",
   "language": "python",
   "name": "python3"
  },
  "language_info": {
   "codemirror_mode": {
    "name": "ipython",
    "version": 3
   },
   "file_extension": ".py",
   "mimetype": "text/x-python",
   "name": "python",
   "nbconvert_exporter": "python",
   "pygments_lexer": "ipython3",
   "version": "3.7.3"
  }
 },
 "nbformat": 4,
 "nbformat_minor": 4
}
