{
 "cells": [
  {
   "cell_type": "code",
   "execution_count": 10,
   "metadata": {},
   "outputs": [],
   "source": [
    "import numpy as np\n",
    "import random"
   ]
  },
  {
   "cell_type": "code",
   "execution_count": 33,
   "metadata": {},
   "outputs": [],
   "source": [
    "class NN():\n",
    "    def __init__(self,inputs,outputs,epochs):\n",
    "        self.inputs  = inputs\n",
    "        self.outputs = outputs\n",
    "        self.epochs = epochs\n",
    "        self.shape_x = self.inputs.shape[1]\n",
    "        \n",
    "    def sigmoid(self,x):\n",
    "        return 1 / ( 1 + np.exp(-x) ) \n",
    "    \n",
    "        \n",
    "    def init_weghits(self,shape_x):\n",
    "        return np.random.random((shape_x,1))\n",
    "    \n",
    "    def train(self):\n",
    "        for x in range(self.epochs):\n",
    "            inputs = self.inputs\n",
    "            random_weights = self.init_weghits(self.shape_x)\n",
    "            vectord_dots = np.dot(inputs,random_weights)\n",
    "            sigmoid_output = self.sigmoid(vectord_dots)\n",
    "            return sigmoid_output"
   ]
  },
  {
   "cell_type": "code",
   "execution_count": 35,
   "metadata": {},
   "outputs": [],
   "source": [
    "# input dataset\n",
    "training_inputs = np.array([[0,0,1],\n",
    "                            [1,1,1],\n",
    "                            [1,0,1],\n",
    "                            [0,1,1]])\n",
    "\n",
    "# output dataset\n",
    "training_outputs = np.array([[0,1,1,0]]).T"
   ]
  },
  {
   "cell_type": "code",
   "execution_count": 36,
   "metadata": {},
   "outputs": [],
   "source": [
    "NN = NN(training_inputs,training_outputs,1)"
   ]
  },
  {
   "cell_type": "code",
   "execution_count": 37,
   "metadata": {},
   "outputs": [
    {
     "data": {
      "text/plain": [
       "array([[0.56692887],\n",
       "       [0.85575457],\n",
       "       [0.74076472],\n",
       "       [0.73102954]])"
      ]
     },
     "execution_count": 37,
     "metadata": {},
     "output_type": "execute_result"
    }
   ],
   "source": [
    "NN.train()"
   ]
  },
  {
   "cell_type": "code",
   "execution_count": null,
   "metadata": {},
   "outputs": [],
   "source": []
  }
 ],
 "metadata": {
  "kernelspec": {
   "display_name": "Python 3",
   "language": "python",
   "name": "python3"
  },
  "language_info": {
   "codemirror_mode": {
    "name": "ipython",
    "version": 3
   },
   "file_extension": ".py",
   "mimetype": "text/x-python",
   "name": "python",
   "nbconvert_exporter": "python",
   "pygments_lexer": "ipython3",
   "version": "3.7.3"
  }
 },
 "nbformat": 4,
 "nbformat_minor": 4
}
